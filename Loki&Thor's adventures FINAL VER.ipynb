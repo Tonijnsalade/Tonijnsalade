{
 "cells": [
  {
   "cell_type": "code",
   "execution_count": 42,
   "id": "ec22863d",
   "metadata": {},
   "outputs": [],
   "source": [
    "import numpy as np \n",
    "import matplotlib.pyplot as plt\n",
    "import random \n",
    "import math\n",
    "import pickle"
   ]
  },
  {
   "cell_type": "markdown",
   "id": "c1e50550",
   "metadata": {},
   "source": [
    "# Functions"
   ]
  },
  {
   "cell_type": "code",
   "execution_count": 43,
   "id": "0d3631c7",
   "metadata": {},
   "outputs": [],
   "source": [
    "def dist(a, b):\n",
    "    '''Just an euclidean distance function'''\n",
    "    return math.sqrt((a[0]-b[0])**2 +(a[1]-b[1])**2 )\n",
    "\n",
    "\n",
    "def Thor_step(x_T, y_T, x_s, y_s):\n",
    "    '''Computes a single step for Thor'''\n",
    "    \n",
    "    global stop_game\n",
    "    directions = []               # Stores allowed directions that Thor can take in the next step\n",
    "    if y_T[-1] != 0.5:            #check if he leaves the bounds, and if he doesnt, then he is allowed to move in that direction\n",
    "        directions += [\"DOWN\"]\n",
    "    if y_T[-1] != n-0.5:\n",
    "        directions += [\"UP\"]\n",
    "    if x_T[-1] != 0.5:\n",
    "        directions += [\"LEFT\"]\n",
    "    if x_T[-1] != n-0.5:\n",
    "        directions += [\"RIGHT\"]\n",
    "\n",
    "    step = random.choice(directions)     #make a choice from the allowed directions \n",
    "    if step == \"RIGHT\":                  # Update the coordinates based on the chosen direction\n",
    "        x = np.append(x_T, x_T[-1] + 1)\n",
    "        y = np.append(y_T, y_T[-1])\n",
    "    elif step == \"LEFT\":\n",
    "        x = np.append(x_T, x_T[-1] - 1)\n",
    "        y = np.append(y_T, y_T[-1])\n",
    "    elif step == \"UP\":\n",
    "        x = np.append(x_T, x_T[-1] )\n",
    "        y = np.append(y_T, y_T[-1]+ 1)\n",
    "    elif step == \"DOWN\":\n",
    "        x = np.append(x_T, x_T[-1] )\n",
    "        y = np.append(y_T, y_T[-1]- 1)\n",
    "    \n",
    "    return x, y\n",
    "\n",
    "\n",
    "def Loki_step(x_L, y_L, x_s, y_s):\n",
    "    '''Computes a single step for Loki, same idea as with thor, but the directions have different probabilities'''\n",
    "    \n",
    "    global stop_game\n",
    "    directions = []\n",
    "    if y_L[-1] != 0.5:\n",
    "        directions += [\"DOWN\"]\n",
    "    if y_L[-1] != n-0.5:\n",
    "        directions += [\"UP\"]\n",
    "    if x_L[-1] != 0.5:\n",
    "        directions += [\"LEFT\"]\n",
    "    if x_L[-1] != n-0.5:\n",
    "        directions += [\"RIGHT\"]\n",
    "    \n",
    "    #get the adjacent coordinates\n",
    "    R_coords = {'UP':(x_L[-1],y_L[-1]+1), 'DOWN':(x_L[-1],y_L[-1]-1), 'LEFT':(x_L[-1]-1,y_L[-1]), 'RIGHT':(x_L[-1]+1,y_L[-1])}\n",
    "    \n",
    "    if (x_s, y_s) in R_coords.values():\n",
    "        step = [i for i in R_coords if R_coords[i]==(x_s, y_s)]  #if next to stone, probability 1 to move towards it\n",
    "    else: \n",
    "        Total_weights = 0\n",
    "        for i in directions:\n",
    "            Total_weights += 1/(dist((x_s, y_s), R_coords[i]))   \n",
    "\n",
    "        weightss = []\n",
    "        for i in directions:\n",
    "            weightss += [(1/dist((x_s, y_s), R_coords[i]))/Total_weights] #formula for the transition probabilities of Loki\n",
    "\n",
    "        step = random.choices(directions, weights=weightss, k=1)\n",
    "\n",
    "    # Update the coordinates based on the chosen direction\n",
    "    if step[0] == \"RIGHT\":\n",
    "        x = np.append(x_L, x_L[-1] + 1)\n",
    "        y = np.append(y_L, y_L[-1])\n",
    "    elif step[0] == \"LEFT\":\n",
    "        x = np.append(x_L, x_L[-1] - 1)\n",
    "        y = np.append(y_L, y_L[-1])\n",
    "    elif step[0] == \"UP\":\n",
    "        x = np.append(x_L, x_L[-1] )\n",
    "        y = np.append(y_L, y_L[-1]+ 1)\n",
    "    elif step[0] == \"DOWN\":\n",
    "        x = np.append(x_L, x_L[-1] )\n",
    "        y = np.append(y_L, y_L[-1]- 1)\n",
    "\n",
    "    return x, y\n",
    "\n",
    "\n",
    "def run_game(x_L, y_L, x_T, y_T, x_s, y_s):\n",
    "    '''Uses Thor_step and Loki_step to run a game'''\n",
    "    \n",
    "    global stop_game\n",
    "    global curr_len\n",
    "    \n",
    "    while stop_game == False:\n",
    "        if  (x_T[-1], y_T[-1]) == (x_s, y_s):\n",
    "            stop_game = True\n",
    "            game_outcome = 0\n",
    "            break\n",
    "        elif  (x_L[-1], y_L[-1]) == (x_s, y_s):\n",
    "            stop_game = True\n",
    "            game_outcome = 1\n",
    "            break\n",
    "        curr_len += 1\n",
    "        \n",
    "        (x_T, y_T) = Thor_step(x_T, y_T, x_s, y_s)\n",
    "        (x_L, y_L) = Loki_step(x_L, y_L, x_s, y_s)\n",
    "        \n",
    "    #uncomment this part below if you want to graph the games, not reccomended for large n\n",
    "    ''' \n",
    "    dot_size = int(500/n)\n",
    "    \n",
    "    fig = plt.figure(figsize = [10,10])\n",
    "    ax = fig.add_subplot(1, 1, 1)\n",
    "    \n",
    "    \n",
    "    grid_ticks = np.arange(0, n+1, 1)\n",
    "    ax.set_xticks(grid_ticks)\n",
    "    ax.set_yticks(grid_ticks)\n",
    "    ax.grid(color = 'green', linestyle = '--', linewidth = 0.5,alpha=0.5)\n",
    "\n",
    "    plt.plot([0,0,n,n,0], [0,n,n,0,0])\n",
    "    plt.plot(x_s, y_s, marker=\"o\", markersize=dot_size, markeredgecolor=\"red\", markerfacecolor=\"red\")\n",
    "    plt.plot(x_T[0], y_T[0], marker=\"o\", markersize=dot_size, markeredgecolor=\"blue\", markerfacecolor=\"blue\")\n",
    "    plt.plot(x_L[0], y_L[0], marker=\"o\", markersize=dot_size*0.8, markeredgecolor=\"black\", markerfacecolor=\"black\")\n",
    "    plt.plot(x_T, y_T, color='b')\n",
    "    plt.plot(x_L, y_L, color='k')\n",
    "    #fig.savefig('piccccture.png')\n",
    "    plt.show()\n",
    "    '''\n",
    "    return game_outcome\n",
    "\n",
    "\n",
    "def first_pasage_time(start, end, n, Matrix):\n",
    "    '''Code that calculates the first passage time as it is defined in section 4.2, suuuuuper slow\n",
    "    'start' is the starting state, \n",
    "    'end' is stone state, \n",
    "    'n' is number of steps and \n",
    "    'Matrix' is the transition matrix'''\n",
    "    \n",
    "    def loop_rec(n, seq):\n",
    "        global All_paths\n",
    "        '''n is time\n",
    "        seq is a list of states to visit in backwards order, states start at 0'''\n",
    "        if n>1:\n",
    "            for i in np.nonzero(Matrix[seq[0]])[0]:\n",
    "                loop_rec(n-1, [i]+seq)\n",
    "        else:\n",
    "            for i in np.nonzero(Matrix[seq[0]])[0]:\n",
    "                All_paths += [[i]+seq]\n",
    "    \n",
    "    loop_rec(n, [start])  \n",
    "    Good_paths = [All_paths[i] for i in range(len(All_paths)) if (All_paths[i][0]==end and All_paths[i][0]!=All_paths[i][1])]\n",
    "    prod = 0\n",
    "    for i in Good_paths:\n",
    "        curr = 1\n",
    "        for j in range(n):\n",
    "            curr = curr*Matrix[i[n-j]][i[n-j-1]]\n",
    "        prod += curr\n",
    "    \n",
    "    return prod\n",
    "\n",
    "def coord_to_int(coord):\n",
    "    '''Turns coordinates of a state in 2d into the state number (starting at bottom left with 1)'''\n",
    "    \n",
    "    global n #field size\n",
    "    a= coord[0]\n",
    "    b = coord[1]\n",
    "    return (b-1)*n+a"
   ]
  },
  {
   "cell_type": "markdown",
   "id": "58a79faa",
   "metadata": {},
   "source": [
    "# The game"
   ]
  },
  {
   "cell_type": "code",
   "execution_count": 57,
   "id": "78ec5dcc",
   "metadata": {},
   "outputs": [],
   "source": [
    "#define the size of the square\n",
    "n = 5\n",
    "\n",
    "#starting position for the stone, center by default, but if n is not odd, \n",
    "#put it mannually (choose from 1 to n^2, or use coord_to_int() )\n",
    "x_s =  n/2\n",
    "y_s =  n/2"
   ]
  },
  {
   "cell_type": "code",
   "execution_count": 58,
   "id": "9170c0de",
   "metadata": {},
   "outputs": [],
   "source": [
    "#clear the game history\n",
    "\n",
    "game_number = 0     #tracks how many simulations have been run\n",
    "game_record = []    #tracks who won (1 = loki, 0=thor) \n",
    "game_lengths = []   #tracks lengths of all simulations"
   ]
  },
  {
   "cell_type": "code",
   "execution_count": 59,
   "id": "84e30cb3",
   "metadata": {
    "scrolled": true
   },
   "outputs": [],
   "source": [
    "#main code, if you want to display the games, uncomment the last chunk of the run_game() function\n",
    "\n",
    "for i_L in range(n):\n",
    "        for j_L in range(n):\n",
    "            for i_T in range(n):\n",
    "                for j_T in range(n):\n",
    "                    stop_game = False  \n",
    "\n",
    "                    x_L = np.array([i_L+0.5])\n",
    "                    y_L = np.array([j_L+0.5])\n",
    "                    x_T = np.array([i_T+0.5])\n",
    "                    y_T = np.array([j_T+0.5])\n",
    "\n",
    "                    curr_len = 0\n",
    "                    game_outcome = run_game(x_L, y_L, x_T, y_T, x_s, y_s )\n",
    "                    game_record += [game_outcome]\n",
    "                    game_lengths += [curr_len]\n",
    "                    game_number += 1\n",
    "                    "
   ]
  },
  {
   "cell_type": "code",
   "execution_count": 60,
   "id": "25377f60",
   "metadata": {},
   "outputs": [
    {
     "data": {
      "text/plain": [
       "(0.8756232497780206, 21.61320948022676)"
      ]
     },
     "execution_count": 60,
     "metadata": {},
     "output_type": "execute_result"
    }
   ],
   "source": [
    "#get the stats.\n",
    "\n",
    "probability = (sum(game_record) / game_number)             #probability Loki wins\n",
    "average_game_len = sum(game_lengths) / len(game_lengths)   #average game length\n",
    "\n",
    "probability, average_game_len"
   ]
  },
  {
   "cell_type": "code",
   "execution_count": 65,
   "id": "52671108",
   "metadata": {
    "scrolled": true
   },
   "outputs": [
    {
     "data": {
      "image/png": "[encoded data removed]",
      "text/plain": [
       "<Figure size 432x288 with 1 Axes>"
      ]
     },
     "metadata": {
      "needs_background": "light"
     },
     "output_type": "display_data"
    }
   ],
   "source": [
    "#histogram of game lengths\n",
    "\n",
    "data = game_lengths\n",
    "plt.hist(data, max(data), density=True)\n",
    "plt.title('Probability game ends in time t on '+ str(n)+'x'+ str(n)+' grid.')\n",
    "plt.xlabel('step number')\n",
    "\n",
    "#plt.savefig('histogram5.png')\n",
    "plt.show() "
   ]
  },
  {
   "cell_type": "code",
   "execution_count": 64,
   "id": "86186bb0",
   "metadata": {
    "scrolled": true
   },
   "outputs": [
    {
     "data": {
      "image/png": "[encoded data removed]",
      "text/plain": [
       "<Figure size 432x288 with 1 Axes>"
      ]
     },
     "metadata": {
      "needs_background": "light"
     },
     "output_type": "display_data"
    }
   ],
   "source": [
    "#histogram for proportion of who won\n",
    "\n",
    "game_lengths = np.array(game_lengths) \n",
    "Loki_wins = game_lengths[[game_record[i]== 1 for i in range(len(game_record))]]\n",
    "Loki_wins.tolist()\n",
    "Thor_wins = game_lengths[[game_record[i]== 0 for i in range(len(game_record))]]\n",
    "Thor_wins.tolist()\n",
    "\n",
    "plt.hist(Loki_wins,histtype='stepfilled', alpha=0.3, bins=max(Loki_wins), color=\"k\")\n",
    "plt.hist(Thor_wins,histtype='stepfilled', alpha=0.3, bins=max(Thor_wins), color=\"b\")\n",
    "plt.title('Number of wins per game length, over '+  str(game_number)+ ' games')\n",
    "plt.xlabel('step number')\n",
    "plt.legend(['Loki', 'Thor'])\n",
    "\n",
    "#plt.savefig('histogram6.png')\n",
    "plt.show() "
   ]
  },
  {
   "cell_type": "markdown",
   "id": "1dceebe5",
   "metadata": {},
   "source": [
    "### Transition Matrix maker\n"
   ]
  },
  {
   "cell_type": "code",
   "execution_count": 61,
   "id": "a795bb19",
   "metadata": {},
   "outputs": [],
   "source": [
    "#makes the transition matrices for Loki and Thor\n",
    "\n",
    "MatrixL = np.array([[0.]*(n**2)]*(n**2))      #start with empty matrices and fill them in bit by bit\n",
    "MatrixT = np.array([[0.]*(n**2)]*(n**2))\n",
    "\n",
    "s_x = math.ceil(n/2)                          #very similar code to Loki_step() and Thor_step()\n",
    "s_y = math.ceil(n/2)\n",
    "for a in range(1, n+1):\n",
    "    for b in range(1, n+1):\n",
    "        directions = []  \n",
    "        if b != 1:\n",
    "            directions += [\"DOWN\"]\n",
    "        if b != n:\n",
    "            directions += [\"UP\"]\n",
    "        if a != 1:\n",
    "            directions += [\"LEFT\"]\n",
    "        if a != n:\n",
    "            directions += [\"RIGHT\"]\n",
    "        \n",
    "        R_coords = {'UP':(a,b+1), 'DOWN':(a,b-1), 'LEFT':(a-1,b), 'RIGHT':(a+1,b)}\n",
    "    \n",
    "        if (s_x, s_y) in R_coords.values():\n",
    "            MatrixL[coord_to_int((a,b))-1][coord_to_int((s_x,s_y))-1]=1\n",
    "        elif (s_x, s_y) == (a,b):\n",
    "            pass\n",
    "        else: \n",
    "            Total_weights = 0\n",
    "            for i in directions:\n",
    "                Total_weights += 1/(dist((s_x, s_y), R_coords[i]))\n",
    "            for i in directions:\n",
    "                MatrixL[coord_to_int((a,b))-1][coord_to_int(R_coords[i])-1]=((1/dist((s_x, s_y), R_coords[i]))/Total_weights)\n",
    "for a in range(1, n+1):\n",
    "    for b in range(1, n+1):\n",
    "        directions = []  # Possible directions\n",
    "        #conditions to not leave the bounds\n",
    "        if b != 1:\n",
    "            directions += [\"DOWN\"]\n",
    "        if b != n:\n",
    "            directions += [\"UP\"]\n",
    "        if a != 1:\n",
    "            directions += [\"LEFT\"]\n",
    "        if a != n:\n",
    "            directions += [\"RIGHT\"]\n",
    "        \n",
    "        R_coords = {'UP':(a,b+1), 'DOWN':(a,b-1), 'LEFT':(a-1,b), 'RIGHT':(a+1,b)}\n",
    "        if (s_x, s_y) == (a,b):\n",
    "            pass\n",
    "        else:\n",
    "            for i in directions:\n",
    "                MatrixT[coord_to_int((a,b))-1][coord_to_int(R_coords[i])-1]=1/len(directions)\n",
    "MatrixL[coord_to_int((s_x,s_y))-1][coord_to_int((s_x,s_y))-1]=1 \n",
    "MatrixL[coord_to_int((s_x,s_y))-1][coord_to_int((s_x,s_y))-1]=1"
   ]
  },
  {
   "cell_type": "code",
   "execution_count": 114,
   "id": "c69e49d4",
   "metadata": {},
   "outputs": [],
   "source": [
    "MatrixF = np.array([MatrixT[0], MatrixT[1], MatrixT[2], MatrixT[3], MatrixT[4],MatrixT[5],MatrixL[6],MatrixL[7],MatrixL[8],MatrixT[9],MatrixT[10],MatrixL[11],MatrixL[12],MatrixL[13],MatrixT[14],MatrixT[15],MatrixL[16],MatrixL[17],MatrixL[18],MatrixT[19],MatrixT[20], MatrixT[21], MatrixT[22], MatrixT[23], MatrixT[24] ])"
   ]
  },
  {
   "cell_type": "markdown",
   "id": "02005f75",
   "metadata": {},
   "source": [
    "### First passage time calculations with ugly sums (only works for 5x5)\n",
    "#### DO NOT RUN unless you want to compare how much faster using matrices is"
   ]
  },
  {
   "cell_type": "code",
   "execution_count": 478,
   "id": "9da29b30",
   "metadata": {},
   "outputs": [],
   "source": [
    "All_fpt_L = []\n",
    "All_fpt_T = []\n",
    "for t in range(15):\n",
    "    list_fpt_l= [0]*25\n",
    "    list_fpt_t= [0]*25\n",
    "    diff_list_l = []\n",
    "    diff_list_t = []\n",
    " \n",
    "    for i in [0, 1, 2, 6, 7, 12]: #the 6 different starting points, everything else is just these but reflected / rotated.\n",
    "        All_paths=[]\n",
    "        diff_list_l += [first_pasage_time(i, 12, t, MatrixL)]\n",
    "        All_paths=[]\n",
    "        diff_list_t += [first_pasage_time(i, 12, t, MatrixT)]\n",
    "          \n",
    "    for i in [0, 4, 19, 24]: #symmetric states to 0\n",
    "        list_fpt_l[i] = diff_list_l[0]\n",
    "        list_fpt_t[i] = diff_list_t[0]\n",
    "       \n",
    "    for i in [1, 3, 5, 9, 15, 19, 21, 23]: #symmetric states to 1\n",
    "        list_fpt_l[i] = diff_list_l[1]\n",
    "        list_fpt_t[i] = diff_list_t[1]\n",
    "        \n",
    "        \n",
    "    for i in [2, 10, 14, 22]: #symmetric states to 2\n",
    "        list_fpt_l[i] = diff_list_l[2]\n",
    "        list_fpt_t[i] = diff_list_t[2]\n",
    "        \n",
    "    for i in [6, 8, 16, 18]: #symmetric states to 6\n",
    "        list_fpt_l[i] = diff_list_l[3]\n",
    "        list_fpt_t[i] = diff_list_t[3]\n",
    "    \n",
    "    for i in [7, 11, 13, 17]: #symmetric states to 7\n",
    "        list_fpt_l[i] = diff_list_l[4]\n",
    "        list_fpt_t[i] = diff_list_t[4]\n",
    "        \n",
    "    list_fpt_l[12] = diff_list_l[5] #12 is unique\n",
    "    list_fpt_t[12] = diff_list_t[5]\n",
    "    \n",
    "    All_fpt_L += [list_fpt_l]\n",
    "    All_fpt_T += [list_fpt_t]"
   ]
  },
  {
   "cell_type": "markdown",
   "id": "b671cae5",
   "metadata": {},
   "source": [
    "### First passage time calculations but with matrices this time, use this one"
   ]
  },
  {
   "cell_type": "code",
   "execution_count": 66,
   "id": "93c58b69",
   "metadata": {
    "scrolled": true
   },
   "outputs": [],
   "source": [
    "#this calculates all first passage times for loki and thor and puts them in a matrix, \n",
    "#so that we dont have to compute the same ones multiple times\n",
    "\n",
    "\n",
    "#input when does the stone disapear\n",
    "tau = 100\n",
    "\n",
    "#this is directly modifying the transition matrices, so if you want to use them later for some reason,\n",
    "#run these two lines alone and change the =0 to =1\n",
    "MatrixL[coord_to_int((s_x,s_y))-1][coord_to_int((s_x,s_y))-1]=0 \n",
    "MatrixT[coord_to_int((s_x,s_y))-1][coord_to_int((s_x,s_y))-1]=0\n",
    "\n",
    "All_fpt_L = np.array([[0.]*(n**2)]*(tau))\n",
    "All_fpt_T = np.array([[0.]*(n**2)]*(tau))\n",
    "All_fpt_L[0][coord_to_int((s_x,s_y))-1]=1\n",
    "All_fpt_T[0][coord_to_int((s_x,s_y))-1]=1\n",
    "\n",
    "for i in range(n**2):    \n",
    "    P_L= [[0]*(n**2)]\n",
    "    P_L[0][i] = 1\n",
    "    P_T = P_L\n",
    "    for time in range(1, tau):\n",
    "        P_Ln = np.matmul(P_L,MatrixL )\n",
    "        P_Tn = np.matmul(P_T,MatrixT )\n",
    "        P_L = P_Ln\n",
    "        P_T = P_Tn\n",
    "        \n",
    "        All_fpt_L[time][i] = P_L[0][coord_to_int((s_x,s_y))-1]\n",
    "        All_fpt_T[time][i] = P_T[0][coord_to_int((s_x,s_y))-1]\n",
    "        \n"
   ]
  },
  {
   "cell_type": "markdown",
   "id": "5ad29591",
   "metadata": {},
   "source": [
    "## Find the actual probabilit that Loki wins, using formula\n"
   ]
  },
  {
   "cell_type": "code",
   "execution_count": 67,
   "id": "cd8c2386",
   "metadata": {
    "scrolled": true
   },
   "outputs": [
    {
     "data": {
      "text/plain": [
       "0.8650720306858327"
      ]
     },
     "execution_count": 67,
     "metadata": {},
     "output_type": "execute_result"
    }
   ],
   "source": [
    "TTotal = 0 \n",
    "for Loki_start in range(n**2):\n",
    "    for Thor_start in range(n**2): # sum over innitial states\n",
    "        curr_sum=0\n",
    "        for time in range(tau):\n",
    "            thrr=sum([All_fpt_T[k][Thor_start] for k in range(time+1)])\n",
    "            curr_sum = (1/(n**2))*(1/(n**2))*All_fpt_L[time][Loki_start]*(1-thrr)\n",
    "            TTotal += curr_sum\n",
    "TTotal"
   ]
  }
 ],
 "metadata": {
  "kernelspec": {
   "display_name": "Python 3",
   "language": "python",
   "name": "python3"
  },
  "language_info": {
   "codemirror_mode": {
    "name": "ipython",
    "version": 3
   },
   "file_extension": ".py",
   "mimetype": "text/x-python",
   "name": "python",
   "nbconvert_exporter": "python",
   "pygments_lexer": "ipython3",
   "version": "3.8.8"
  }
 },
 "nbformat": 4,
 "nbformat_minor": 5
}
