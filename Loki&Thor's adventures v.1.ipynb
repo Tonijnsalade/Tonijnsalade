{
 "cells": [
  {
   "cell_type": "code",
   "execution_count": 1,
   "id": "ec22863d",
   "metadata": {},
   "outputs": [],
   "source": [
    "import numpy as np \n",
    "import matplotlib.pyplot as plt\n",
    "import random \n",
    "import math"
   ]
  },
  {
   "cell_type": "markdown",
   "id": "c1e50550",
   "metadata": {},
   "source": [
    "# Functions"
   ]
  },
  {
   "cell_type": "code",
   "execution_count": 88,
   "id": "0d3631c7",
   "metadata": {},
   "outputs": [],
   "source": [
    "def dist(a, b):\n",
    "    return math.sqrt((a[0]-b[0])**2 +(a[1]-b[1])**2 )\n",
    "\n",
    "\n",
    "def Thor_step(x_T, y_T):\n",
    "    \n",
    "    directions = []  # Possible directions\n",
    "    #conditions to not leave the bounds\n",
    "    if y_T[-1] != 0.5:\n",
    "        directions += [\"DOWN\"]\n",
    "    if y_T[-1] != n-0.5:\n",
    "        directions += [\"UP\"]\n",
    "    if x_T[-1] != 0.5:\n",
    "        directions += [\"LEFT\"]\n",
    "    if x_T[-1] != n-0.5:\n",
    "        directions += [\"RIGHT\"]\n",
    "        \n",
    "    step = random.choice(directions)\n",
    "    \n",
    "    # Update the coordinates based on the chosen direction\n",
    "    if step == \"RIGHT\":\n",
    "        x = np.append(x_T, x_T[-1] + 1)\n",
    "        y = np.append(y_T, y_T[-1])\n",
    "    elif step == \"LEFT\":\n",
    "        x = np.append(x_T, x_T[-1] - 1)\n",
    "        y = np.append(y_T, y_T[-1])\n",
    "    elif step == \"UP\":\n",
    "        x = np.append(x_T, x_T[-1] )\n",
    "        y = np.append(y_T, y_T[-1]+ 1)\n",
    "    elif step == \"DOWN\":\n",
    "        x = np.append(x_T, x_T[-1] )\n",
    "        y = np.append(y_T, y_T[-1]- 1)\n",
    "\n",
    "    return x, y \n",
    "\n",
    "\n",
    "def Loki_step(x_L, y_L, x_s, y_s):\n",
    "    global stop_game\n",
    "    global game_record\n",
    "    \n",
    "    directions = []  # Possible directions\n",
    "    #conditions to not leave the bounds\n",
    "    if y_L[-1] != 0.5:\n",
    "        directions += [\"DOWN\"]\n",
    "    if y_L[-1] != n-0.5:\n",
    "        directions += [\"UP\"]\n",
    "    if x_L[-1] != 0.5:\n",
    "        directions += [\"LEFT\"]\n",
    "    if x_L[-1] != n-0.5:\n",
    "        directions += [\"RIGHT\"]\n",
    "    \n",
    "    R_coords = {'UP':(x_L[-1],y_L[-1]+1), 'DOWN':(x_L[-1],y_L[-1]-1), 'LEFT':(x_L[-1]-1,y_L[-1]), 'RIGHT':(x_L[-1]+1,y_L[-1])}\n",
    "    \n",
    "    if (x_s, y_s) in R_coords.values():\n",
    "        step = [i for i in R_coords if R_coords[i]==(x_s, y_s)]\n",
    "        stop_game = True\n",
    "    else: \n",
    "        Total_weights = 0\n",
    "        for i in directions:\n",
    "            Total_weights += 1/(dist((x_s, y_s), R_coords[i]))\n",
    "\n",
    "        weightss = []\n",
    "        for i in directions:\n",
    "            weightss += [(1/dist((x_s, y_s), R_coords[i]))/Total_weights]\n",
    "\n",
    "        step = random.choices(directions, weights=weightss, k=1)\n",
    "\n",
    "    # Update the coordinates based on the chosen direction\n",
    "    if step[0] == \"RIGHT\":\n",
    "        x = np.append(x_L, x_L[-1] + 1)\n",
    "        y = np.append(y_L, y_L[-1])\n",
    "    elif step[0] == \"LEFT\":\n",
    "        x = np.append(x_L, x_L[-1] - 1)\n",
    "        y = np.append(y_L, y_L[-1])\n",
    "    elif step[0] == \"UP\":\n",
    "        x = np.append(x_L, x_L[-1] )\n",
    "        y = np.append(y_L, y_L[-1]+ 1)\n",
    "    elif step[0] == \"DOWN\":\n",
    "        x = np.append(x_L, x_L[-1] )\n",
    "        y = np.append(y_L, y_L[-1]- 1)\n",
    "\n",
    "    return x, y \n",
    "\n",
    "\n",
    "def run_game(x_L, y_L, x_T, y_T, x_s, y_s):\n",
    "    global stop_game\n",
    "    global game_record\n",
    "    global curr_len\n",
    "    \n",
    "    while stop_game == False:\n",
    "        if ((x_T[-1], y_T[-1]) == (x_L[-1], y_L[-1])) or ((x_T[-1], y_T[-1]) == (x_s, y_s)):\n",
    "            stop_game = True\n",
    "            game_record += 1\n",
    "        \n",
    "        curr_len += 1\n",
    "        \n",
    "        stp_T = Thor_step(x_T, y_T)\n",
    "        x_T= stp_T[0]\n",
    "        y_T = stp_T[1]\n",
    "        \n",
    "        stp_L = Loki_step(x_L, y_L, x_s, y_s)\n",
    "        x_L = stp_L[0]\n",
    "        y_L = stp_L[1]\n",
    "        \n",
    "'''\n",
    "    dot_size = int(500/n)\n",
    "    \n",
    "    fig = plt.figure(figsize = [10,10])\n",
    "    ax = fig.add_subplot(1, 1, 1)\n",
    "\n",
    "    grid_ticks = np.arange(0, n+1, 1)\n",
    "    ax.set_xticks(grid_ticks)\n",
    "    ax.set_yticks(grid_ticks)\n",
    "    ax.grid(color = 'green', linestyle = '--', linewidth = 0.5,alpha=0.5)\n",
    "\n",
    "    plt.plot([0,0,n,n,0], [0,n,n,0,0])\n",
    "    plt.plot(x_s, y_s, marker=\"o\", markersize=dot_size, markeredgecolor=\"red\", markerfacecolor=\"red\")\n",
    "    plt.plot(x_T[0], y_T[0], marker=\"o\", markersize=dot_size, markeredgecolor=\"blue\", markerfacecolor=\"blue\")\n",
    "    plt.plot(x_L[0], y_L[0], marker=\"o\", markersize=dot_size, markeredgecolor=\"black\", markerfacecolor=\"black\")\n",
    "    plt.plot(x_T, y_T, color='b')\n",
    "    plt.plot(x_L, y_L, color='k')\n",
    "\n",
    "    plt.show()\n",
    "'''  \n",
    "    \n",
    "    \n",
    "def run_game_x2(x_L, y_L, x_T, y_T, x_s, y_s):\n",
    "    global stop_game\n",
    "    global game_record\n",
    "    global curr_len\n",
    "    \n",
    "    while stop_game == False:\n",
    "        if ((x_T[-1], y_T[-1]) == (x_L[-1], y_L[-1])) or ((x_T[-1], y_T[-1]) == (x_s, y_s)):\n",
    "            stop_game = True\n",
    "            game_record += 2\n",
    "        \n",
    "        curr_len += 1\n",
    "        \n",
    "        stp_T = Thor_step(x_T, y_T)\n",
    "        x_T = stp_T[0]\n",
    "        y_T = stp_T[1]\n",
    "\n",
    "        stp_L = Loki_step(x_L, y_L, x_s, y_s)\n",
    "        x_L = stp_L[0]\n",
    "        y_L = stp_L[1]\n"
   ]
  },
  {
   "cell_type": "code",
   "execution_count": null,
   "id": "93437c8b",
   "metadata": {},
   "outputs": [],
   "source": []
  },
  {
   "cell_type": "markdown",
   "id": "58a79faa",
   "metadata": {},
   "source": [
    "# The game"
   ]
  },
  {
   "cell_type": "code",
   "execution_count": 89,
   "id": "78ec5dcc",
   "metadata": {},
   "outputs": [],
   "source": [
    "n = 20+1 #define the size of the square"
   ]
  },
  {
   "cell_type": "code",
   "execution_count": 90,
   "id": "9170c0de",
   "metadata": {},
   "outputs": [],
   "source": [
    "game_number = 0  #clear the game history\n",
    "game_record = 0 \n",
    "game_lengths = []"
   ]
  },
  {
   "cell_type": "code",
   "execution_count": 91,
   "id": "a4f88408",
   "metadata": {},
   "outputs": [],
   "source": [
    "#starting position for the stone\n",
    "x_s = n/2\n",
    "y_s = n/2"
   ]
  },
  {
   "cell_type": "code",
   "execution_count": 92,
   "id": "e0816c46",
   "metadata": {},
   "outputs": [],
   "source": [
    "#symmetry 4 squares:\n",
    "x_s4 = [i for i in range(int((n-1)/2))]\n",
    "y_s4 = [i for i in range(int((n-1)/2))]\n",
    "x_s4 += [int((n-1)/2)]*int((n-1)/2)\n",
    "y_s4 += [i for i in range(int((n-1)/2))]\n",
    "\n",
    "sym_4 = [(x_s4[i], y_s4[i]) for i in range(len(x_s4))]"
   ]
  },
  {
   "cell_type": "code",
   "execution_count": 93,
   "id": "5ce8edbf",
   "metadata": {},
   "outputs": [],
   "source": [
    "#symmetry 8 squares:\n",
    "x_s8 = []\n",
    "y_s8 = []\n",
    "\n",
    "for i in range(1, int((n-1)/2)):\n",
    "    for j in range(i):\n",
    "        x_s8 += [i]\n",
    "        y_s8 += [j]\n",
    "        \n",
    "sym_8 = [(x_s8[i], y_s8[i]) for i in range(len(x_s8))]"
   ]
  },
  {
   "cell_type": "code",
   "execution_count": 94,
   "id": "84e30cb3",
   "metadata": {},
   "outputs": [],
   "source": [
    "#main code\n",
    "\n",
    "#symmetry 4, weighted four times\n",
    "for Ll in sym_4:\n",
    "    for i_T in range(n):\n",
    "        for j_T in range(n):\n",
    "            stop_game = False  \n",
    "\n",
    "            x_L = np.array([Ll[0]+0.5])\n",
    "            y_L = np.array([Ll[1]+0.5])\n",
    "            x_T = np.array([i_T+0.5])\n",
    "            y_T = np.array([j_T+0.5])\n",
    "\n",
    "            curr_len = 0\n",
    "            run_game(x_L, y_L, x_T, y_T, x_s, y_s)\n",
    "            game_lengths += [curr_len]\n",
    "            game_number += 1\n",
    "\n",
    "\n",
    "#symmetry 8, weighted 8 times\n",
    "for Ll in sym_8:\n",
    "    for i_T in range(n):\n",
    "        for j_T in range(n):       \n",
    "            stop_game = False  \n",
    "\n",
    "            x_L = np.array([Ll[0]+0.5])\n",
    "            y_L = np.array([Ll[1]+0.5])\n",
    "            x_T = np.array([i_T+0.5])\n",
    "            y_T = np.array([j_T+0.5])\n",
    "\n",
    "            curr_len = 0\n",
    "            run_game_x2(x_L, y_L, x_T, y_T, x_s, y_s)\n",
    "\n",
    "            game_lengths += [curr_len]*2\n",
    "            game_number += 2"
   ]
  },
  {
   "cell_type": "code",
   "execution_count": 95,
   "id": "25377f60",
   "metadata": {},
   "outputs": [
    {
     "data": {
      "text/plain": [
       "(0.17520098948670376, 82.51403834260977)"
      ]
     },
     "execution_count": 95,
     "metadata": {},
     "output_type": "execute_result"
    }
   ],
   "source": [
    "probability = (game_record / game_number)\n",
    "average_game_len = sum(game_lengths) / len(game_lengths)\n",
    "\n",
    "probability, average_game_len"
   ]
  },
  {
   "cell_type": "code",
   "execution_count": 96,
   "id": "f833ef36",
   "metadata": {},
   "outputs": [
    {
     "data": {
      "text/plain": [
       "48510"
      ]
     },
     "execution_count": 96,
     "metadata": {},
     "output_type": "execute_result"
    }
   ],
   "source": [
    "game_number"
   ]
  }
 ],
 "metadata": {
  "kernelspec": {
   "display_name": "Python 3",
   "language": "python",
   "name": "python3"
  },
  "language_info": {
   "codemirror_mode": {
    "name": "ipython",
    "version": 3
   },
   "file_extension": ".py",
   "mimetype": "text/x-python",
   "name": "python",
   "nbconvert_exporter": "python",
   "pygments_lexer": "ipython3",
   "version": "3.8.8"
  }
 },
 "nbformat": 4,
 "nbformat_minor": 5
}
