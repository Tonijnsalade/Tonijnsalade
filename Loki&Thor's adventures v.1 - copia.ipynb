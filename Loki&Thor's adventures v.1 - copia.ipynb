{
 "cells": [
  {
   "cell_type": "code",
   "execution_count": 195,
   "id": "ec22863d",
   "metadata": {},
   "outputs": [],
   "source": [
    "import numpy as np \n",
    "import matplotlib.pyplot as plt\n",
    "import random \n",
    "import math\n",
    "import pickle"
   ]
  },
  {
   "cell_type": "markdown",
   "id": "c1e50550",
   "metadata": {},
   "source": [
    "# Functions"
   ]
  },
  {
   "cell_type": "code",
   "execution_count": 196,
   "id": "0d3631c7",
   "metadata": {},
   "outputs": [],
   "source": [
    "def dist(a, b):\n",
    "    return math.sqrt((a[0]-b[0])**2 +(a[1]-b[1])**2 )\n",
    "\n",
    "\n",
    "def Thor_step(x_T, y_T, x_s, y_s):\n",
    "    global stop_game\n",
    "    directions = []  # Possible directions\n",
    "    #conditions to not leave the bounds\n",
    "    if y_T[-1] != 0.5:\n",
    "        directions += [\"DOWN\"]\n",
    "    if y_T[-1] != n-0.5:\n",
    "        directions += [\"UP\"]\n",
    "    if x_T[-1] != 0.5:\n",
    "        directions += [\"LEFT\"]\n",
    "    if x_T[-1] != n-0.5:\n",
    "        directions += [\"RIGHT\"]\n",
    "\n",
    "    step = random.choice(directions)\n",
    "\n",
    "    # Update the coordinates based on the chosen direction\n",
    "    if step == \"RIGHT\":\n",
    "        x = np.append(x_T, x_T[-1] + 1)\n",
    "        y = np.append(y_T, y_T[-1])\n",
    "    elif step == \"LEFT\":\n",
    "        x = np.append(x_T, x_T[-1] - 1)\n",
    "        y = np.append(y_T, y_T[-1])\n",
    "    elif step == \"UP\":\n",
    "        x = np.append(x_T, x_T[-1] )\n",
    "        y = np.append(y_T, y_T[-1]+ 1)\n",
    "    elif step == \"DOWN\":\n",
    "        x = np.append(x_T, x_T[-1] )\n",
    "        y = np.append(y_T, y_T[-1]- 1)\n",
    "    \n",
    "    return x, y\n",
    "\n",
    "\n",
    "def Loki_step(x_L, y_L, x_s, y_s):\n",
    "    global stop_game\n",
    "    \n",
    "    directions = []  # Possible directions\n",
    "    #conditions to not leave the bounds\n",
    "    if y_L[-1] != 0.5:\n",
    "        directions += [\"DOWN\"]\n",
    "    if y_L[-1] != n-0.5:\n",
    "        directions += [\"UP\"]\n",
    "    if x_L[-1] != 0.5:\n",
    "        directions += [\"LEFT\"]\n",
    "    if x_L[-1] != n-0.5:\n",
    "        directions += [\"RIGHT\"]\n",
    "    \n",
    "    R_coords = {'UP':(x_L[-1],y_L[-1]+1), 'DOWN':(x_L[-1],y_L[-1]-1), 'LEFT':(x_L[-1]-1,y_L[-1]), 'RIGHT':(x_L[-1]+1,y_L[-1])}\n",
    "    \n",
    "    if (x_s, y_s) in R_coords.values():\n",
    "        step = [i for i in R_coords if R_coords[i]==(x_s, y_s)]\n",
    "    else: \n",
    "        Total_weights = 0\n",
    "        for i in directions:\n",
    "            Total_weights += 1/(dist((x_s, y_s), R_coords[i]))\n",
    "\n",
    "        weightss = []\n",
    "        for i in directions:\n",
    "            weightss += [(1/dist((x_s, y_s), R_coords[i]))/Total_weights]\n",
    "\n",
    "        step = random.choices(directions, weights=weightss, k=1)\n",
    "\n",
    "    # Update the coordinates based on the chosen direction\n",
    "    if step[0] == \"RIGHT\":\n",
    "        x = np.append(x_L, x_L[-1] + 1)\n",
    "        y = np.append(y_L, y_L[-1])\n",
    "    elif step[0] == \"LEFT\":\n",
    "        x = np.append(x_L, x_L[-1] - 1)\n",
    "        y = np.append(y_L, y_L[-1])\n",
    "    elif step[0] == \"UP\":\n",
    "        x = np.append(x_L, x_L[-1] )\n",
    "        y = np.append(y_L, y_L[-1]+ 1)\n",
    "    elif step[0] == \"DOWN\":\n",
    "        x = np.append(x_L, x_L[-1] )\n",
    "        y = np.append(y_L, y_L[-1]- 1)\n",
    "\n",
    "    return x, y\n",
    "\n",
    "\n",
    "def run_game(x_L, y_L, x_T, y_T, x_s, y_s):\n",
    "    global stop_game\n",
    "    global curr_len\n",
    "    \n",
    "    while stop_game == False:\n",
    "        if  (x_T[-1], y_T[-1]) == (x_s, y_s):\n",
    "            stop_game = True\n",
    "            game_outcome = 0\n",
    "            break\n",
    "        elif  (x_L[-1], y_L[-1]) == (x_s, y_s):\n",
    "            stop_game = True\n",
    "            game_outcome = 1\n",
    "            break\n",
    "        curr_len += 1\n",
    "        \n",
    "        (x_T, y_T) = Thor_step(x_T, y_T, x_s, y_s)\n",
    "        (x_L, y_L) = Loki_step(x_L, y_L, x_s, y_s)\n",
    "    \n",
    "    '''\n",
    "    dot_size = int(500/n)\n",
    "    \n",
    "    fig = plt.figure(figsize = [10,10])\n",
    "    ax = fig.add_subplot(1, 1, 1)\n",
    "    \n",
    "    \n",
    "    grid_ticks = np.arange(0, n+1, 1)\n",
    "    ax.set_xticks(grid_ticks)\n",
    "    ax.set_yticks(grid_ticks)\n",
    "    ax.grid(color = 'green', linestyle = '--', linewidth = 0.5,alpha=0.5)\n",
    "\n",
    "    plt.plot([0,0,n,n,0], [0,n,n,0,0])\n",
    "    plt.plot(x_s, y_s, marker=\"o\", markersize=dot_size, markeredgecolor=\"red\", markerfacecolor=\"red\")\n",
    "    plt.plot(x_T[0], y_T[0], marker=\"o\", markersize=dot_size, markeredgecolor=\"blue\", markerfacecolor=\"blue\")\n",
    "    plt.plot(x_L[0], y_L[0], marker=\"o\", markersize=dot_size*0.8, markeredgecolor=\"black\", markerfacecolor=\"black\")\n",
    "    plt.plot(x_T, y_T, color='b')\n",
    "    plt.plot(x_L, y_L, color='k')\n",
    "    #fig.savefig('piccccture.png')\n",
    "    plt.show()\n",
    "    '''\n",
    "    return game_outcome\n",
    "\n",
    "#calculate fist pasage time\n",
    "\n",
    "def first_pasage_time(start, end, n, Matrix):\n",
    "    ''' 'start' is the starting state, \n",
    "    'end' is stone state, \n",
    "    'n' is number of steps and \n",
    "    'Matrix' is the transition matrix'''\n",
    "    \n",
    "    def loop_rec(n, seq):\n",
    "        global All_paths\n",
    "        '''n is time\n",
    "        seq is a list of states to visit in backwards order, states start at 0'''\n",
    "        if n>1:\n",
    "            for i in np.nonzero(Matrix[seq[0]])[0]:\n",
    "                loop_rec(n-1, [i]+seq)\n",
    "        else:\n",
    "            for i in np.nonzero(Matrix[seq[0]])[0]:\n",
    "                All_paths += [[i]+seq]\n",
    "    \n",
    "    loop_rec(n, [start])  \n",
    "    Good_paths = [All_paths[i] for i in range(len(All_paths)) if (All_paths[i][0]==end and All_paths[i][0]!=All_paths[i][1])]\n",
    "    prod = 0\n",
    "    for i in Good_paths:\n",
    "        curr = 1\n",
    "        for j in range(n):\n",
    "            curr = curr*Matrix[i[n-j]][i[n-j-1]]\n",
    "        prod += curr\n",
    "    \n",
    "    return prod\n",
    "\n",
    "def coord_to_int(coord):\n",
    "    global n #field size\n",
    "    a= coord[0]\n",
    "    b = coord[1]\n",
    "    return (b-1)*n+a"
   ]
  },
  {
   "cell_type": "code",
   "execution_count": null,
   "id": "93437c8b",
   "metadata": {},
   "outputs": [],
   "source": []
  },
  {
   "cell_type": "markdown",
   "id": "58a79faa",
   "metadata": {},
   "source": [
    "# The game"
   ]
  },
  {
   "cell_type": "code",
   "execution_count": 197,
   "id": "78ec5dcc",
   "metadata": {},
   "outputs": [],
   "source": [
    "n = 3 #define the size of the square"
   ]
  },
  {
   "cell_type": "code",
   "execution_count": 198,
   "id": "9170c0de",
   "metadata": {},
   "outputs": [],
   "source": [
    "game_number = 0  #clear the game history\n",
    "game_record = [] \n",
    "game_lengths = []"
   ]
  },
  {
   "cell_type": "code",
   "execution_count": 199,
   "id": "a4f88408",
   "metadata": {},
   "outputs": [],
   "source": [
    "#starting position for the stone\n",
    "x_s =  n/2\n",
    "y_s =  n/2"
   ]
  },
  {
   "cell_type": "code",
   "execution_count": 200,
   "id": "84e30cb3",
   "metadata": {
    "scrolled": true
   },
   "outputs": [],
   "source": [
    "#main code\n",
    "\n",
    "for i_L in range(n):\n",
    "        for j_L in range(n):\n",
    "            for i_T in range(n):\n",
    "                for j_T in range(n):\n",
    "                    stop_game = False  \n",
    "\n",
    "                    x_L = np.array([i_L+0.5])\n",
    "                    y_L = np.array([j_L+0.5])\n",
    "                    x_T = np.array([i_T+0.5])\n",
    "                    y_T = np.array([j_T+0.5])\n",
    "\n",
    "                    curr_len = 0\n",
    "                    game_outcome = run_game(x_L, y_L, x_T, y_T, x_s, y_s )\n",
    "                    game_record += [game_outcome]\n",
    "                    game_lengths += [curr_len]\n",
    "                    game_number += 1\n",
    "                    "
   ]
  },
  {
   "cell_type": "code",
   "execution_count": 201,
   "id": "25377f60",
   "metadata": {},
   "outputs": [
    {
     "data": {
      "text/plain": [
       "(0.6790123456790124, 1.123456790123457)"
      ]
     },
     "execution_count": 201,
     "metadata": {},
     "output_type": "execute_result"
    }
   ],
   "source": [
    "probability = (sum(game_record) / game_number)\n",
    "average_game_len = sum(game_lengths) / len(game_lengths)\n",
    "\n",
    "probability, average_game_len"
   ]
  },
  {
   "cell_type": "code",
   "execution_count": 202,
   "id": "f833ef36",
   "metadata": {},
   "outputs": [
    {
     "data": {
      "text/plain": [
       "81"
      ]
     },
     "execution_count": 202,
     "metadata": {},
     "output_type": "execute_result"
    }
   ],
   "source": [
    "game_number"
   ]
  },
  {
   "cell_type": "code",
   "execution_count": 203,
   "id": "281412ac",
   "metadata": {},
   "outputs": [
    {
     "data": {
      "text/plain": [
       "'\\nwith open(\"data_stochastics_octant.txt\", \"wb\") as f: # \"wb\" because we want to write in binary mode\\n    pickle.dump((probability, average_game_len, game_lengths), f)\\n'"
      ]
     },
     "execution_count": 203,
     "metadata": {},
     "output_type": "execute_result"
    }
   ],
   "source": [
    "'''\n",
    "with open(\"data_stochastics_octant.txt\", \"wb\") as f: # \"wb\" because we want to write in binary mode\n",
    "    pickle.dump((probability, average_game_len, game_lengths), f)\n",
    "'''"
   ]
  },
  {
   "cell_type": "code",
   "execution_count": 157,
   "id": "b03995c3",
   "metadata": {},
   "outputs": [
    {
     "data": {
      "text/plain": [
       "'\\nwith open(\"data_stochastics_octant.txt\", \"rb\") as f: # \"wb\" because we want to write in binary mode\\n    data = pickle.load(f)\\n'"
      ]
     },
     "execution_count": 157,
     "metadata": {},
     "output_type": "execute_result"
    }
   ],
   "source": [
    "'''\n",
    "with open(\"data_stochastics_octant.txt\", \"rb\") as f: # \"wb\" because we want to write in binary mode\n",
    "    data = pickle.load(f)\n",
    "'''"
   ]
  },
  {
   "cell_type": "code",
   "execution_count": 158,
   "id": "086f7352",
   "metadata": {},
   "outputs": [],
   "source": [
    "data = game_lengths"
   ]
  },
  {
   "cell_type": "code",
   "execution_count": 159,
   "id": "52671108",
   "metadata": {
    "scrolled": true
   },
   "outputs": [
    {
     "data": {
      "image/png": "[encoded data removed]",
      "text/plain": [
       "<Figure size 432x288 with 1 Axes>"
      ]
     },
     "metadata": {
      "needs_background": "light"
     },
     "output_type": "display_data"
    }
   ],
   "source": [
    "plt.hist(data, max(data), density=True)\n",
    "#plt.plot([math.exp(-average_game_len)*((average_game_len)**i)/(math.factorial(i)) for i in range(max(data))])\n",
    "plt.title('Probability game ends in time t')\n",
    "plt.xlabel('step number')\n",
    "\n",
    "#plt.savefig('histogram.png')\n",
    "plt.show() "
   ]
  },
  {
   "cell_type": "code",
   "execution_count": 160,
   "id": "86186bb0",
   "metadata": {
    "scrolled": true
   },
   "outputs": [
    {
     "data": {
      "image/png": "[encoded data removed]",
      "text/plain": [
       "<Figure size 432x288 with 1 Axes>"
      ]
     },
     "metadata": {
      "needs_background": "light"
     },
     "output_type": "display_data"
    }
   ],
   "source": [
    "game_lengths = np.array(game_lengths) \n",
    "Loki_wins = game_lengths[[game_record[i]== 1 for i in range(len(game_record))]]\n",
    "Loki_wins.tolist()\n",
    "Thor_wins = game_lengths[[game_record[i]== 0 for i in range(len(game_record))]]\n",
    "Thor_wins.tolist()\n",
    "\n",
    "plt.hist(Loki_wins,histtype='stepfilled', alpha=0.3, bins=max(Loki_wins), color=\"k\")\n",
    "plt.hist(Thor_wins,histtype='stepfilled', alpha=0.3, bins=max(Thor_wins), color=\"b\")\n",
    "plt.title('Number of wins per game length, over 20.000 games')\n",
    "plt.xlabel('step number')\n",
    "plt.legend(['Loki', 'Thor'])\n",
    "\n",
    "#plt.savefig('histogram2.png')\n",
    "plt.show() "
   ]
  },
  {
   "cell_type": "markdown",
   "id": "1dceebe5",
   "metadata": {},
   "source": [
    "### Modif. Matrix maker\n"
   ]
  },
  {
   "cell_type": "code",
   "execution_count": 205,
   "id": "0f9203ad",
   "metadata": {},
   "outputs": [],
   "source": [
    "MatrixL = np.array([[0.]*(n**2)]*(n**2))\n",
    "MatrixT = np.array([[0.]*(n**2)]*(n**2))"
   ]
  },
  {
   "cell_type": "code",
   "execution_count": 206,
   "id": "a795bb19",
   "metadata": {},
   "outputs": [],
   "source": [
    "s_x = math.ceil(n/2)\n",
    "s_y = math.ceil(n/2)\n",
    "for a in range(1, n+1):\n",
    "    for b in range(1, n+1):\n",
    "        directions = []  # Possible directions\n",
    "        #conditions to not leave the bounds\n",
    "        if b != 1:\n",
    "            directions += [\"DOWN\"]\n",
    "        if b != n:\n",
    "            directions += [\"UP\"]\n",
    "        if a != 1:\n",
    "            directions += [\"LEFT\"]\n",
    "        if a != n:\n",
    "            directions += [\"RIGHT\"]\n",
    "        \n",
    "        R_coords = {'UP':(a,b+1), 'DOWN':(a,b-1), 'LEFT':(a-1,b), 'RIGHT':(a+1,b)}\n",
    "    \n",
    "        if (s_x, s_y) in R_coords.values():\n",
    "            MatrixL[coord_to_int((a,b))-1][coord_to_int((s_x,s_y))-1]=1\n",
    "        elif (s_x, s_y) == (a,b):\n",
    "            pass\n",
    "        else: \n",
    "            Total_weights = 0\n",
    "            for i in directions:\n",
    "                Total_weights += 1/(dist((s_x, s_y), R_coords[i]))\n",
    "            for i in directions:\n",
    "                MatrixL[coord_to_int((a,b))-1][coord_to_int(R_coords[i])-1]=((1/dist((s_x, s_y), R_coords[i]))/Total_weights)\n",
    "\n",
    "for a in range(1, n+1):\n",
    "    for b in range(1, n+1):\n",
    "        directions = []  # Possible directions\n",
    "        #conditions to not leave the bounds\n",
    "        if b != 1:\n",
    "            directions += [\"DOWN\"]\n",
    "        if b != n:\n",
    "            directions += [\"UP\"]\n",
    "        if a != 1:\n",
    "            directions += [\"LEFT\"]\n",
    "        if a != n:\n",
    "            directions += [\"RIGHT\"]\n",
    "        \n",
    "        R_coords = {'UP':(a,b+1), 'DOWN':(a,b-1), 'LEFT':(a-1,b), 'RIGHT':(a+1,b)}\n",
    "        if (s_x, s_y) == (a,b):\n",
    "            pass\n",
    "        else:\n",
    "            for i in directions:\n",
    "                MatrixT[coord_to_int((a,b))-1][coord_to_int(R_coords[i])-1]=1/len(directions)\n",
    "\n",
    "\n"
   ]
  },
  {
   "cell_type": "code",
   "execution_count": 207,
   "id": "a445afd4",
   "metadata": {},
   "outputs": [
    {
     "data": {
      "text/plain": [
       "'np.savetxt(\"Transition_matrixL_5x5.csv\", MatrixL, delimiter=\",\")'"
      ]
     },
     "execution_count": 207,
     "metadata": {},
     "output_type": "execute_result"
    }
   ],
   "source": [
    "'''np.savetxt(\"Transition_matrixL_5x5.csv\", MatrixL, delimiter=\",\")'''"
   ]
  },
  {
   "cell_type": "code",
   "execution_count": 114,
   "id": "c69e49d4",
   "metadata": {},
   "outputs": [],
   "source": [
    "MatrixF = np.array([MatrixT[0], MatrixT[1], MatrixT[2], MatrixT[3], MatrixT[4],MatrixT[5],MatrixL[6],MatrixL[7],MatrixL[8],MatrixT[9],MatrixT[10],MatrixL[11],MatrixL[12],MatrixL[13],MatrixT[14],MatrixT[15],MatrixL[16],MatrixL[17],MatrixL[18],MatrixT[19],MatrixT[20], MatrixT[21], MatrixT[22], MatrixT[23], MatrixT[24] ])"
   ]
  },
  {
   "cell_type": "markdown",
   "id": "02005f75",
   "metadata": {},
   "source": [
    "### First passage time calculations with ugly sums"
   ]
  },
  {
   "cell_type": "code",
   "execution_count": 478,
   "id": "9da29b30",
   "metadata": {},
   "outputs": [],
   "source": [
    "All_fpt_L = []\n",
    "All_fpt_T = []\n",
    "for t in range(15):\n",
    "    list_fpt_l= [0]*25\n",
    "    list_fpt_t= [0]*25\n",
    "    diff_list_l = []\n",
    "    diff_list_t = []\n",
    " \n",
    "    for i in [0, 1, 2, 6, 7, 12]: #the 6 different starting points, everything else is just these but reflected / rotated.\n",
    "        All_paths=[]\n",
    "        diff_list_l += [first_pasage_time(i, 12, t, MatrixL)]\n",
    "        All_paths=[]\n",
    "        diff_list_t += [first_pasage_time(i, 12, t, MatrixT)]\n",
    "          \n",
    "    for i in [0, 4, 19, 24]: #symmetric states to 0\n",
    "        list_fpt_l[i] = diff_list_l[0]\n",
    "        list_fpt_t[i] = diff_list_t[0]\n",
    "       \n",
    "    for i in [1, 3, 5, 9, 15, 19, 21, 23]: #symmetric states to 1\n",
    "        list_fpt_l[i] = diff_list_l[1]\n",
    "        list_fpt_t[i] = diff_list_t[1]\n",
    "        \n",
    "        \n",
    "    for i in [2, 10, 14, 22]: #symmetric states to 2\n",
    "        list_fpt_l[i] = diff_list_l[2]\n",
    "        list_fpt_t[i] = diff_list_t[2]\n",
    "        \n",
    "    for i in [6, 8, 16, 18]: #symmetric states to 6\n",
    "        list_fpt_l[i] = diff_list_l[3]\n",
    "        list_fpt_t[i] = diff_list_t[3]\n",
    "    \n",
    "    for i in [7, 11, 13, 17]: #symmetric states to 7\n",
    "        list_fpt_l[i] = diff_list_l[4]\n",
    "        list_fpt_t[i] = diff_list_t[4]\n",
    "        \n",
    "    list_fpt_l[12] = diff_list_l[5] #12 is unique\n",
    "    list_fpt_t[12] = diff_list_t[5]\n",
    "    \n",
    "    All_fpt_L += [list_fpt_l]\n",
    "    All_fpt_T += [list_fpt_t]"
   ]
  },
  {
   "cell_type": "markdown",
   "id": "b671cae5",
   "metadata": {},
   "source": [
    "### First passage time calculations but with matrices this time"
   ]
  },
  {
   "cell_type": "code",
   "execution_count": 209,
   "id": "93c58b69",
   "metadata": {
    "scrolled": true
   },
   "outputs": [],
   "source": [
    "tau = 40\n",
    "All_fpt_L = np.array([[0.]*(n**2)]*(tau))\n",
    "All_fpt_T = np.array([[0.]*(n**2)]*(tau))\n",
    "\n",
    "All_fpt_L[0][coord_to_int((s_x,s_y))-1]=1\n",
    "All_fpt_T[0][coord_to_int((s_x,s_y))-1]=1\n",
    "\n",
    "for i in range(n**2):    \n",
    "    P_L= [[0]*(n**2)]\n",
    "    P_L[0][i] = 1\n",
    "    P_T = P_L\n",
    "    for time in range(1, tau):\n",
    "        P_Ln = np.matmul(P_L,MatrixL )\n",
    "        P_Tn = np.matmul(P_T,MatrixT )\n",
    "        P_L = P_Ln\n",
    "        P_T = P_Tn\n",
    "        \n",
    "        All_fpt_L[time][i] = P_L[0][coord_to_int((s_x,s_y))-1]\n",
    "        All_fpt_T[time][i] = P_T[0][coord_to_int((s_x,s_y))-1]\n",
    "        \n"
   ]
  },
  {
   "cell_type": "code",
   "execution_count": 270,
   "id": "b93e38e7",
   "metadata": {},
   "outputs": [],
   "source": [
    "MatrixxL= [[0., 0.59, 0., 0.41, 0., 0.],\n",
    " [0.18, 0., 0.41, 0., 0.41, 0.],\n",
    " [0., 0., 0., 0., 0., 1],\n",
    " [0.31, 0., 0., 0., 0.69, 0.],\n",
    " [0., 0., 0., 0., 0., 1],\n",
    " [0., 0., 0., 0., 0., 1]]"
   ]
  },
  {
   "cell_type": "code",
   "execution_count": 246,
   "id": "8165a284",
   "metadata": {},
   "outputs": [],
   "source": [
    "MatrixxT = [[0., 0.5, 0., 0.5, 0., 0.],\n",
    "  [1/3, 0., 1/3, 0., 1/3, 0.],\n",
    "  [0., 0.5, 0., 0., 0., 0.5],\n",
    "  [0.5, 0., 0., 0., 0.5, 0.],\n",
    "  [0., 1/3, 0., 1/3, 0., 1/3],\n",
    "  [0., 0., 0., 0., 0., 1]];"
   ]
  },
  {
   "cell_type": "markdown",
   "id": "5ad29591",
   "metadata": {},
   "source": [
    "## program the formula to find the theretical answer\n"
   ]
  },
  {
   "cell_type": "code",
   "execution_count": 210,
   "id": "cd8c2386",
   "metadata": {
    "scrolled": true
   },
   "outputs": [
    {
     "data": {
      "text/plain": [
       "0.6913580246913575"
      ]
     },
     "execution_count": 210,
     "metadata": {},
     "output_type": "execute_result"
    }
   ],
   "source": [
    "TTotal = 0 \n",
    "for Loki_start in range(n**2):\n",
    "    for Thor_start in range(n**2): # sum over innitial states\n",
    "        curr_sum=0\n",
    "        for time in range(tau):\n",
    "            thrr=sum([All_fpt_T[k][Thor_start] for k in range(time+1)])\n",
    "            curr_sum = (1/(n**2))*(1/(n**2))*All_fpt_L[time][Loki_start]*(1-thrr)\n",
    "            TTotal += curr_sum\n",
    "TTotal"
   ]
  },
  {
   "cell_type": "code",
   "execution_count": null,
   "id": "ba0f6e3c",
   "metadata": {},
   "outputs": [],
   "source": []
  }
 ],
 "metadata": {
  "kernelspec": {
   "display_name": "Python 3",
   "language": "python",
   "name": "python3"
  },
  "language_info": {
   "codemirror_mode": {
    "name": "ipython",
    "version": 3
   },
   "file_extension": ".py",
   "mimetype": "text/x-python",
   "name": "python",
   "nbconvert_exporter": "python",
   "pygments_lexer": "ipython3",
   "version": "3.8.8"
  }
 },
 "nbformat": 4,
 "nbformat_minor": 5
}
