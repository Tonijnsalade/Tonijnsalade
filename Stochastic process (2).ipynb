{
 "cells": [
  {
   "cell_type": "code",
   "execution_count": null,
   "id": "bfc8269b",
   "metadata": {},
   "outputs": [],
   "source": [
    "import numpy as np \n",
    "import matplotlib.pyplot as plt\n",
    "import random \n",
    "import pylab\n",
    "\n",
    "# choose m and n for a mxn grid\n",
    "m = 100 # number of rows\n",
    "n = 10 # number of columns\n",
    "\n",
    "field = [[(i, j) for j in range(n)] for i in range(m)]\n",
    "\n",
    "# Define place of stone \n",
    "x_stone = random.randint(0, m - 1)\n",
    "y_stone = random.randint(0, n - 1)\n",
    "\n",
    "\n",
    "def walk_loki(x_stone, y_stone):\n",
    "    # Location Loki \n",
    "    x = [0]\n",
    "    y = [0] \n",
    "\n",
    "    directions = [\"UP\", \"DOWN\", \"RIGHT\", \"LEFT\"]  # Possible directions\n",
    "\n",
    "    while x[-1] != x_stone and y[-1] != y_stone:\n",
    "        step = random.choice(directions)  # Randomly choose a direction, Giuliano this needs to be fixed with probabilities\n",
    "\n",
    "        # Update the coordinates based on the chosen direction\n",
    "        if step == \"RIGHT\":\n",
    "            x.append(x[-1] + 1)\n",
    "            y.append(y[-1])\n",
    "        elif step == \"LEFT\":\n",
    "            x.append(x[-1] - 1)\n",
    "            y.append(y[-1])\n",
    "        elif step == \"UP\":\n",
    "            x.append(x[-1])\n",
    "            y.append(y[-1] + 1)\n",
    "        else:\n",
    "            x.append(x[-1])\n",
    "            y.append(y[-1] - 1)\n",
    "    \n",
    "    return x, y\n",
    "\n",
    "# Define place of stone \n",
    "x_stone = random.randint(0, m - 1)\n",
    "y_stone = random.randint(0, n - 1)\n",
    "\n",
    "x_steps, y_steps = walk_loki(x_stone, y_stone)\n",
    "\n",
    "pylab.title(\"Random Walk 2-D\")\n",
    "pylab.plot(x, y) #plotting the walk.\n",
    "pylab.show()\n",
    "\n"
   ]
  },
  {
   "cell_type": "code",
   "execution_count": null,
   "id": "7a80ce8f",
   "metadata": {},
   "outputs": [],
   "source": []
  },
  {
   "cell_type": "code",
   "execution_count": null,
   "id": "d53b279f",
   "metadata": {},
   "outputs": [],
   "source": []
  }
 ],
 "metadata": {
  "kernelspec": {
   "display_name": "Python 3",
   "language": "python",
   "name": "python3"
  },
  "language_info": {
   "codemirror_mode": {
    "name": "ipython",
    "version": 3
   },
   "file_extension": ".py",
   "mimetype": "text/x-python",
   "name": "python",
   "nbconvert_exporter": "python",
   "pygments_lexer": "ipython3",
   "version": "3.8.8"
  }
 },
 "nbformat": 4,
 "nbformat_minor": 5
}
